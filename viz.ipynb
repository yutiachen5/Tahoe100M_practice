{
 "cells": [
  {
   "cell_type": "code",
   "execution_count": 17,
   "id": "8b1afbaf-0eac-4502-8265-640551243b9a",
   "metadata": {},
   "outputs": [
    {
     "name": "stderr",
     "output_type": "stream",
     "text": [
      "Matplotlib is building the font cache; this may take a moment.\n"
     ]
    }
   ],
   "source": [
    "import pandas as pd\n",
    "import matplotlib.pyplot as plt"
   ]
  },
  {
   "cell_type": "code",
   "execution_count": 7,
   "id": "a9789f13-37eb-49cc-8e8a-2c9d9999a8fb",
   "metadata": {},
   "outputs": [
    {
     "data": {
      "text/html": [
       "<div>\n",
       "<style scoped>\n",
       "    .dataframe tbody tr th:only-of-type {\n",
       "        vertical-align: middle;\n",
       "    }\n",
       "\n",
       "    .dataframe tbody tr th {\n",
       "        vertical-align: top;\n",
       "    }\n",
       "\n",
       "    .dataframe thead th {\n",
       "        text-align: right;\n",
       "    }\n",
       "</style>\n",
       "<table border=\"1\" class=\"dataframe\">\n",
       "  <thead>\n",
       "    <tr style=\"text-align: right;\">\n",
       "      <th></th>\n",
       "      <th>genes</th>\n",
       "      <th>expressions</th>\n",
       "      <th>canonical_smiles</th>\n",
       "      <th>drug</th>\n",
       "      <th>cell_line_id</th>\n",
       "      <th>cell_name</th>\n",
       "      <th>Cell_ID_Cellosaur</th>\n",
       "      <th>DRUG_NAME</th>\n",
       "      <th>CELL_LINE_NAME</th>\n",
       "      <th>LN_IC50</th>\n",
       "    </tr>\n",
       "  </thead>\n",
       "  <tbody>\n",
       "    <tr>\n",
       "      <th>0</th>\n",
       "      <td>1,12,19,20,21,32,35,43,55,56,70,78,79,99,101,1...</td>\n",
       "      <td>-2.0,1.0,1.0,2.0,1.0,3.0,1.0,4.0,1.0,2.0,2.0,1...</td>\n",
       "      <td>CC1CCC2CC(C(=CC=CC=CC(CC(C(=O)C(C(C(=CC(C(=O)C...</td>\n",
       "      <td>Rapamycin</td>\n",
       "      <td>CVCL_0366</td>\n",
       "      <td>SNU-423</td>\n",
       "      <td>CVCL_0366</td>\n",
       "      <td>Rapamycin</td>\n",
       "      <td>SNU-423</td>\n",
       "      <td>-1.544005</td>\n",
       "    </tr>\n",
       "    <tr>\n",
       "      <th>1</th>\n",
       "      <td>1,14,19,24,26,33,40,45,55,59,69,73,79,103,139,...</td>\n",
       "      <td>-2.0,1.0,2.0,1.0,1.0,1.0,1.0,1.0,1.0,1.0,1.0,1...</td>\n",
       "      <td>CC1CCC2CC(C(=CC=CC=CC(CC(C(=O)C(C(C(=CC(C(=O)C...</td>\n",
       "      <td>Rapamycin</td>\n",
       "      <td>CVCL_1097</td>\n",
       "      <td>C32</td>\n",
       "      <td>CVCL_1097</td>\n",
       "      <td>Rapamycin</td>\n",
       "      <td>C32</td>\n",
       "      <td>0.121983</td>\n",
       "    </tr>\n",
       "    <tr>\n",
       "      <th>2</th>\n",
       "      <td>1,5,56,78,79,139,140,153,167,174,195,224,234,2...</td>\n",
       "      <td>-2.0,1.0,2.0,1.0,1.0,1.0,1.0,1.0,1.0,1.0,1.0,2...</td>\n",
       "      <td>CC1CCC2CC(C(=CC=CC=CC(CC(C(=O)C(C(C(=CC(C(=O)C...</td>\n",
       "      <td>Rapamycin</td>\n",
       "      <td>CVCL_1097</td>\n",
       "      <td>C32</td>\n",
       "      <td>CVCL_1097</td>\n",
       "      <td>Rapamycin</td>\n",
       "      <td>C32</td>\n",
       "      <td>0.121983</td>\n",
       "    </tr>\n",
       "    <tr>\n",
       "      <th>3</th>\n",
       "      <td>1,5,19,43,70,106,112,113,114,137,231,244,275,2...</td>\n",
       "      <td>-2.0,1.0,1.0,1.0,1.0,1.0,1.0,1.0,1.0,2.0,1.0,1...</td>\n",
       "      <td>CC1CCC2CC(C(=CC=CC=CC(CC(C(=O)C(C(C(=CC(C(=O)C...</td>\n",
       "      <td>Rapamycin</td>\n",
       "      <td>CVCL_0366</td>\n",
       "      <td>SNU-423</td>\n",
       "      <td>CVCL_0366</td>\n",
       "      <td>Rapamycin</td>\n",
       "      <td>SNU-423</td>\n",
       "      <td>-1.544005</td>\n",
       "    </tr>\n",
       "    <tr>\n",
       "      <th>4</th>\n",
       "      <td>1,3,21,45,70,95,103,106,114,138,139,140,144,14...</td>\n",
       "      <td>-2.0,1.0,1.0,1.0,1.0,2.0,2.0,1.0,1.0,2.0,2.0,1...</td>\n",
       "      <td>CC1CCC2CC(C(=CC=CC=CC(CC(C(=O)C(C(C(=CC(C(=O)C...</td>\n",
       "      <td>Rapamycin</td>\n",
       "      <td>CVCL_0152</td>\n",
       "      <td>AsPC-1</td>\n",
       "      <td>CVCL_0152</td>\n",
       "      <td>Rapamycin</td>\n",
       "      <td>AsPC-1</td>\n",
       "      <td>1.171050</td>\n",
       "    </tr>\n",
       "    <tr>\n",
       "      <th>...</th>\n",
       "      <td>...</td>\n",
       "      <td>...</td>\n",
       "      <td>...</td>\n",
       "      <td>...</td>\n",
       "      <td>...</td>\n",
       "      <td>...</td>\n",
       "      <td>...</td>\n",
       "      <td>...</td>\n",
       "      <td>...</td>\n",
       "      <td>...</td>\n",
       "    </tr>\n",
       "    <tr>\n",
       "      <th>127731</th>\n",
       "      <td>1,22,45,78,95,103,128,157,187,233,234,248,252,...</td>\n",
       "      <td>-2.0,1.0,1.0,1.0,1.0,1.0,1.0,1.0,1.0,1.0,1.0,1...</td>\n",
       "      <td>CC1CCC2CC(C(=CC=CC=CC(CC(C(=O)C(C(C(=CC(C(=O)C...</td>\n",
       "      <td>Rapamycin</td>\n",
       "      <td>CVCL_0320</td>\n",
       "      <td>HT-29</td>\n",
       "      <td>CVCL_0320</td>\n",
       "      <td>Rapamycin</td>\n",
       "      <td>HT-29</td>\n",
       "      <td>-0.768822</td>\n",
       "    </tr>\n",
       "    <tr>\n",
       "      <th>127732</th>\n",
       "      <td>1,10,19,26,32,42,43,68,70,85,95,112,124,128,13...</td>\n",
       "      <td>-2.0,1.0,1.0,1.0,1.0,2.0,6.0,2.0,1.0,1.0,1.0,2...</td>\n",
       "      <td>CC1CCC2CC(C(=CC=CC=CC(CC(C(=O)C(C(C(=CC(C(=O)C...</td>\n",
       "      <td>Rapamycin</td>\n",
       "      <td>CVCL_1517</td>\n",
       "      <td>NCI-H2030</td>\n",
       "      <td>CVCL_1517</td>\n",
       "      <td>Rapamycin</td>\n",
       "      <td>NCI-H2030</td>\n",
       "      <td>-3.075120</td>\n",
       "    </tr>\n",
       "    <tr>\n",
       "      <th>127733</th>\n",
       "      <td>1,11,14,32,44,52,77,134,141,156,221,235,244,25...</td>\n",
       "      <td>-2.0,1.0,2.0,1.0,1.0,1.0,1.0,1.0,1.0,1.0,1.0,1...</td>\n",
       "      <td>CC1CCC2CC(C(=CC=CC=CC(CC(C(=O)C(C(C(=CC(C(=O)C...</td>\n",
       "      <td>Rapamycin</td>\n",
       "      <td>CVCL_0320</td>\n",
       "      <td>HT-29</td>\n",
       "      <td>CVCL_0320</td>\n",
       "      <td>Rapamycin</td>\n",
       "      <td>HT-29</td>\n",
       "      <td>-0.768822</td>\n",
       "    </tr>\n",
       "    <tr>\n",
       "      <th>127734</th>\n",
       "      <td>1,11,19,26,41,42,54,56,68,82,84,94,95,99,106,1...</td>\n",
       "      <td>-2.0,2.0,1.0,3.0,1.0,2.0,1.0,4.0,1.0,1.0,2.0,1...</td>\n",
       "      <td>CC1CCC2CC(C(=CC=CC=CC(CC(C(=O)C(C(C(=CC(C(=O)C...</td>\n",
       "      <td>Rapamycin</td>\n",
       "      <td>CVCL_1517</td>\n",
       "      <td>NCI-H2030</td>\n",
       "      <td>CVCL_1517</td>\n",
       "      <td>Rapamycin</td>\n",
       "      <td>NCI-H2030</td>\n",
       "      <td>-3.075120</td>\n",
       "    </tr>\n",
       "    <tr>\n",
       "      <th>127735</th>\n",
       "      <td>1,5,11,14,24,30,32,38,55,56,59,68,78,90,95,103...</td>\n",
       "      <td>-2.0,1.0,10.0,1.0,1.0,1.0,3.0,1.0,1.0,1.0,1.0,...</td>\n",
       "      <td>CC1CCC2CC(C(=CC=CC=CC(CC(C(=O)C(C(C(=CC(C(=O)C...</td>\n",
       "      <td>Rapamycin</td>\n",
       "      <td>CVCL_0320</td>\n",
       "      <td>HT-29</td>\n",
       "      <td>CVCL_0320</td>\n",
       "      <td>Rapamycin</td>\n",
       "      <td>HT-29</td>\n",
       "      <td>-0.768822</td>\n",
       "    </tr>\n",
       "  </tbody>\n",
       "</table>\n",
       "<p>127736 rows × 10 columns</p>\n",
       "</div>"
      ],
      "text/plain": [
       "                                                    genes  \\\n",
       "0       1,12,19,20,21,32,35,43,55,56,70,78,79,99,101,1...   \n",
       "1       1,14,19,24,26,33,40,45,55,59,69,73,79,103,139,...   \n",
       "2       1,5,56,78,79,139,140,153,167,174,195,224,234,2...   \n",
       "3       1,5,19,43,70,106,112,113,114,137,231,244,275,2...   \n",
       "4       1,3,21,45,70,95,103,106,114,138,139,140,144,14...   \n",
       "...                                                   ...   \n",
       "127731  1,22,45,78,95,103,128,157,187,233,234,248,252,...   \n",
       "127732  1,10,19,26,32,42,43,68,70,85,95,112,124,128,13...   \n",
       "127733  1,11,14,32,44,52,77,134,141,156,221,235,244,25...   \n",
       "127734  1,11,19,26,41,42,54,56,68,82,84,94,95,99,106,1...   \n",
       "127735  1,5,11,14,24,30,32,38,55,56,59,68,78,90,95,103...   \n",
       "\n",
       "                                              expressions  \\\n",
       "0       -2.0,1.0,1.0,2.0,1.0,3.0,1.0,4.0,1.0,2.0,2.0,1...   \n",
       "1       -2.0,1.0,2.0,1.0,1.0,1.0,1.0,1.0,1.0,1.0,1.0,1...   \n",
       "2       -2.0,1.0,2.0,1.0,1.0,1.0,1.0,1.0,1.0,1.0,1.0,2...   \n",
       "3       -2.0,1.0,1.0,1.0,1.0,1.0,1.0,1.0,1.0,2.0,1.0,1...   \n",
       "4       -2.0,1.0,1.0,1.0,1.0,2.0,2.0,1.0,1.0,2.0,2.0,1...   \n",
       "...                                                   ...   \n",
       "127731  -2.0,1.0,1.0,1.0,1.0,1.0,1.0,1.0,1.0,1.0,1.0,1...   \n",
       "127732  -2.0,1.0,1.0,1.0,1.0,2.0,6.0,2.0,1.0,1.0,1.0,2...   \n",
       "127733  -2.0,1.0,2.0,1.0,1.0,1.0,1.0,1.0,1.0,1.0,1.0,1...   \n",
       "127734  -2.0,2.0,1.0,3.0,1.0,2.0,1.0,4.0,1.0,1.0,2.0,1...   \n",
       "127735  -2.0,1.0,10.0,1.0,1.0,1.0,3.0,1.0,1.0,1.0,1.0,...   \n",
       "\n",
       "                                         canonical_smiles       drug  \\\n",
       "0       CC1CCC2CC(C(=CC=CC=CC(CC(C(=O)C(C(C(=CC(C(=O)C...  Rapamycin   \n",
       "1       CC1CCC2CC(C(=CC=CC=CC(CC(C(=O)C(C(C(=CC(C(=O)C...  Rapamycin   \n",
       "2       CC1CCC2CC(C(=CC=CC=CC(CC(C(=O)C(C(C(=CC(C(=O)C...  Rapamycin   \n",
       "3       CC1CCC2CC(C(=CC=CC=CC(CC(C(=O)C(C(C(=CC(C(=O)C...  Rapamycin   \n",
       "4       CC1CCC2CC(C(=CC=CC=CC(CC(C(=O)C(C(C(=CC(C(=O)C...  Rapamycin   \n",
       "...                                                   ...        ...   \n",
       "127731  CC1CCC2CC(C(=CC=CC=CC(CC(C(=O)C(C(C(=CC(C(=O)C...  Rapamycin   \n",
       "127732  CC1CCC2CC(C(=CC=CC=CC(CC(C(=O)C(C(C(=CC(C(=O)C...  Rapamycin   \n",
       "127733  CC1CCC2CC(C(=CC=CC=CC(CC(C(=O)C(C(C(=CC(C(=O)C...  Rapamycin   \n",
       "127734  CC1CCC2CC(C(=CC=CC=CC(CC(C(=O)C(C(C(=CC(C(=O)C...  Rapamycin   \n",
       "127735  CC1CCC2CC(C(=CC=CC=CC(CC(C(=O)C(C(C(=CC(C(=O)C...  Rapamycin   \n",
       "\n",
       "       cell_line_id  cell_name Cell_ID_Cellosaur  DRUG_NAME CELL_LINE_NAME  \\\n",
       "0         CVCL_0366    SNU-423         CVCL_0366  Rapamycin        SNU-423   \n",
       "1         CVCL_1097        C32         CVCL_1097  Rapamycin            C32   \n",
       "2         CVCL_1097        C32         CVCL_1097  Rapamycin            C32   \n",
       "3         CVCL_0366    SNU-423         CVCL_0366  Rapamycin        SNU-423   \n",
       "4         CVCL_0152     AsPC-1         CVCL_0152  Rapamycin         AsPC-1   \n",
       "...             ...        ...               ...        ...            ...   \n",
       "127731    CVCL_0320      HT-29         CVCL_0320  Rapamycin          HT-29   \n",
       "127732    CVCL_1517  NCI-H2030         CVCL_1517  Rapamycin      NCI-H2030   \n",
       "127733    CVCL_0320      HT-29         CVCL_0320  Rapamycin          HT-29   \n",
       "127734    CVCL_1517  NCI-H2030         CVCL_1517  Rapamycin      NCI-H2030   \n",
       "127735    CVCL_0320      HT-29         CVCL_0320  Rapamycin          HT-29   \n",
       "\n",
       "         LN_IC50  \n",
       "0      -1.544005  \n",
       "1       0.121983  \n",
       "2       0.121983  \n",
       "3      -1.544005  \n",
       "4       1.171050  \n",
       "...          ...  \n",
       "127731 -0.768822  \n",
       "127732 -3.075120  \n",
       "127733 -0.768822  \n",
       "127734 -3.075120  \n",
       "127735 -0.768822  \n",
       "\n",
       "[127736 rows x 10 columns]"
      ]
     },
     "execution_count": 7,
     "metadata": {},
     "output_type": "execute_result"
    }
   ],
   "source": [
    "df = pd.read_csv('/hpc/home/yc583/Tahoe100M_practice/data/Tahoe_GDSC_raw.csv')\n",
    "df"
   ]
  },
  {
   "cell_type": "code",
   "execution_count": 6,
   "id": "31b1abdf-fd02-4fd8-aa79-297dab11045b",
   "metadata": {},
   "outputs": [
    {
     "data": {
      "text/plain": [
       "canonical_smiles\n",
       "CC1CCC2CC(C(=CC=CC=CC(CC(C(=O)C(C(C(=CC(C(=O)CC(OC(=O)C3CCCCN3C(=O)C(=O)C1(O2)O)C(C)CC4CCC(C(C4)OC)OC(=O)C(C)(CO)CO)C)C)O)OC)C)C)C)OC    49212\n",
       "CC1CCC2CC(C(=CC=CC=CC(CC(C(=O)C(C(C(=CC(C(=O)CC(OC(=O)C3CCCCN3C(=O)C(=O)C1(O2)O)C(C)CC4CCC(C(C4)OC)O)C)C)O)OC)C)C)C)OC                   46033\n",
       "CC1=C2C(C(=O)C3(C(CC4C(C3C(C(C2(C)C)(CC1OC(=O)C(C(C5=CC=CC=C5)NC(=O)OC(C)(C)C)O)O)OC(=O)C6=CC=CC=C6)(CO4)OC(=O)C)O)C)O                   32491\n",
       "Name: count, dtype: int64"
      ]
     },
     "execution_count": 6,
     "metadata": {},
     "output_type": "execute_result"
    }
   ],
   "source": [
    "df['canonical_smiles'].value_counts()"
   ]
  },
  {
   "cell_type": "code",
   "execution_count": 8,
   "id": "cc3b3d70-56b7-4c42-9fad-0597057326b9",
   "metadata": {},
   "outputs": [
    {
     "data": {
      "text/plain": [
       "drug\n",
       "Temsirolimus    49212\n",
       "Rapamycin       46033\n",
       "Docetaxel       32491\n",
       "Name: count, dtype: int64"
      ]
     },
     "execution_count": 8,
     "metadata": {},
     "output_type": "execute_result"
    }
   ],
   "source": [
    "df['drug'].value_counts()"
   ]
  },
  {
   "cell_type": "code",
   "execution_count": 11,
   "id": "24857d3a-ab76-4973-984e-016d4e5172d9",
   "metadata": {},
   "outputs": [
    {
     "data": {
      "text/plain": [
       "cell_name\n",
       "LoVo         8086\n",
       "A549         7521\n",
       "J82          7180\n",
       "A498         6930\n",
       "NCI-H460     6823\n",
       "AsPC-1       6781\n",
       "RKO          6640\n",
       "NCI-H2030    6157\n",
       "NCI-H2347    6048\n",
       "HT-29        6008\n",
       "NCI-H23      5440\n",
       "C32          5400\n",
       "CFPAC-1      5256\n",
       "SW1417       5097\n",
       "NCI-H1573    5089\n",
       "SNU-423      4683\n",
       "NCI-H1792    4510\n",
       "SK-MEL-2     4279\n",
       "BT-474       4140\n",
       "SHP-77       3941\n",
       "RPMI-7951    3757\n",
       "SNU-1        2625\n",
       "H4           1941\n",
       "SW48         1745\n",
       "CHP-212      1111\n",
       "NCI-H661      368\n",
       "NCI-H2122     123\n",
       "NCI-H596       57\n",
       "Name: count, dtype: int64"
      ]
     },
     "execution_count": 11,
     "metadata": {},
     "output_type": "execute_result"
    }
   ],
   "source": [
    "df['cell_name'].value_counts()"
   ]
  },
  {
   "cell_type": "code",
   "execution_count": 14,
   "id": "6fdcbe1e-9239-4800-a307-e68f1278bbe4",
   "metadata": {},
   "outputs": [
    {
     "data": {
      "text/plain": [
       "drug-cell\n",
       "Rapamycin-NCI-H460       4324\n",
       "Temsirolimus-J82         3213\n",
       "Temsirolimus-A549        3080\n",
       "Temsirolimus-LoVo        2981\n",
       "Rapamycin-LoVo           2860\n",
       "                         ... \n",
       "Rapamycin-NCI-H2122        41\n",
       "Docetaxel-NCI-H2122        40\n",
       "Docetaxel-NCI-H596         21\n",
       "Temsirolimus-NCI-H596      18\n",
       "Rapamycin-NCI-H596         18\n",
       "Name: count, Length: 82, dtype: int64"
      ]
     },
     "execution_count": 14,
     "metadata": {},
     "output_type": "execute_result"
    }
   ],
   "source": [
    "df['drug-cell'] = df['drug'] + '-' + df['cell_name']\n",
    "df['drug-cell'].value_counts()"
   ]
  },
  {
   "cell_type": "code",
   "execution_count": 15,
   "id": "3b4e51dc-4c1d-42b6-95f7-b7430247c9ef",
   "metadata": {},
   "outputs": [
    {
     "data": {
      "text/plain": [
       "LN_IC50\n",
       "-4.614447    4324\n",
       " 0.665286    3213\n",
       "-0.931052    3080\n",
       "-2.034643    2981\n",
       "-4.005762    2860\n",
       "             ... \n",
       "-1.183107      41\n",
       "-6.514573      40\n",
       "-2.568844      21\n",
       " 0.919120      18\n",
       "-2.865760      18\n",
       "Name: count, Length: 82, dtype: int64"
      ]
     },
     "execution_count": 15,
     "metadata": {},
     "output_type": "execute_result"
    }
   ],
   "source": [
    "df['LN_IC50'].value_counts()"
   ]
  },
  {
   "cell_type": "code",
   "execution_count": 19,
   "id": "b99d3ef0-717a-4600-81d0-80ab594d30e2",
   "metadata": {},
   "outputs": [
    {
     "data": {
      "image/png": "[encoded data removed]",
      "text/plain": [
       "<Figure size 640x480 with 1 Axes>"
      ]
     },
     "metadata": {},
     "output_type": "display_data"
    }
   ],
   "source": [
    "plt.hist(df['LN_IC50'], bins=50)\n",
    "plt.xlabel('log(IC50)')\n",
    "plt.ylabel('Density')\n",
    "plt.title('Distribution of log(IC50)')\n",
    "plt.show()"
   ]
  },
  {
   "cell_type": "code",
   "execution_count": 21,
   "id": "b65d1744-190a-494e-9f44-4460bd72baa7",
   "metadata": {},
   "outputs": [
    {
     "data": {
      "text/plain": [
       "numpy.float64"
      ]
     },
     "execution_count": 21,
     "metadata": {},
     "output_type": "execute_result"
    }
   ],
   "source": [
    "type(df.loc[0, 'LN_IC50'])"
   ]
  },
  {
   "cell_type": "code",
   "execution_count": null,
   "id": "dd06015a-7af1-4c48-8059-0b104ecf37be",
   "metadata": {},
   "outputs": [],
   "source": []
  }
 ],
 "metadata": {
  "kernelspec": {
   "display_name": "Python 3 (ipykernel)",
   "language": "python",
   "name": "python3"
  },
  "language_info": {
   "codemirror_mode": {
    "name": "ipython",
    "version": 3
   },
   "file_extension": ".py",
   "mimetype": "text/x-python",
   "name": "python",
   "nbconvert_exporter": "python",
   "pygments_lexer": "ipython3",
   "version": "3.11.10"
  }
 },
 "nbformat": 4,
 "nbformat_minor": 5
}
