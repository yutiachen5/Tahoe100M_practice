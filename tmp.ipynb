{
 "cells": [
  {
   "cell_type": "code",
   "execution_count": 3,
   "id": "f8493e0d-d89c-42a4-97fd-6cb6d45096b9",
   "metadata": {},
   "outputs": [
    {
     "name": "stderr",
     "output_type": "stream",
     "text": [
      "2025-06-05 15:00:38.326570: I external/local_xla/xla/tsl/cuda/cudart_stub.cc:32] Could not find cuda drivers on your machine, GPU will not be used.\n",
      "2025-06-05 15:00:39.915859: I external/local_xla/xla/tsl/cuda/cudart_stub.cc:32] Could not find cuda drivers on your machine, GPU will not be used.\n",
      "2025-06-05 15:00:40.396963: E external/local_xla/xla/stream_executor/cuda/cuda_fft.cc:485] Unable to register cuFFT factory: Attempting to register factory for plugin cuFFT when one has already been registered\n",
      "2025-06-05 15:00:40.698376: E external/local_xla/xla/stream_executor/cuda/cuda_dnn.cc:8454] Unable to register cuDNN factory: Attempting to register factory for plugin cuDNN when one has already been registered\n",
      "2025-06-05 15:00:40.764275: E external/local_xla/xla/stream_executor/cuda/cuda_blas.cc:1452] Unable to register cuBLAS factory: Attempting to register factory for plugin cuBLAS when one has already been registered\n",
      "2025-06-05 15:00:41.900961: I tensorflow/core/platform/cpu_feature_guard.cc:210] This TensorFlow binary is optimized to use available CPU instructions in performance-critical operations.\n",
      "To enable the following instructions: AVX2 AVX512F FMA, in other operations, rebuild TensorFlow with the appropriate compiler flags.\n",
      "2025-06-05 15:00:47.113528: W tensorflow/compiler/tf2tensorrt/utils/py_utils.cc:38] TF-TRT Warning: Could not find TensorRT\n"
     ]
    },
    {
     "data": {
      "application/vnd.jupyter.widget-view+json": {
       "model_id": "b8ab93345d1d4304abf77c88c5b031da",
       "version_major": 2,
       "version_minor": 0
      },
      "text/plain": [
       "pytorch_model.bin:   0%|          | 0.00/179M [00:00<?, ?B/s]"
      ]
     },
     "metadata": {},
     "output_type": "display_data"
    },
    {
     "name": "stderr",
     "output_type": "stream",
     "text": [
      "Error during conversion: ChunkedEncodingError(ProtocolError('Response ended prematurely'))\n"
     ]
    },
    {
     "data": {
      "application/vnd.jupyter.widget-view+json": {
       "model_id": "c924a29eb75447d4b239ee283055cd99",
       "version_major": 2,
       "version_minor": 0
      },
      "text/plain": [
       "model.safetensors:   0%|          | 0.00/179M [00:00<?, ?B/s]"
      ]
     },
     "metadata": {},
     "output_type": "display_data"
    }
   ],
   "source": [
    "from transformers import AutoTokenizer, AutoModel\n",
    "smiles_tokenizer = AutoTokenizer.from_pretrained('seyonec/ChemBERTa-zinc-base-v1')\n",
    "smiles_encoder = AutoModel.from_pretrained('seyonec/ChemBERTa-zinc-base-v1')"
   ]
  },
  {
   "cell_type": "code",
   "execution_count": 39,
   "id": "a9910593-4c30-4e3a-8919-61cded8bccd3",
   "metadata": {},
   "outputs": [],
   "source": [
    "smiles=['C1=CC2=C(C(=C1)O)N=CC=C2', 'C1=CC2=C(C(=C1)O)N=CC=C2HHHHHHHH', 'CCCCCCCOOOOOOOOOHHHHHHHHHHHHHHHHHHHHHHHHHHHHHHHHHHH']\n",
    "input_id = smiles_tokenizer(smiles, padding=True, return_tensors=\"pt\")['input_ids']\n",
    "attention_mask = smiles_tokenizer(smiles, padding=True, return_tensors=\"pt\")['attention_mask']"
   ]
  },
  {
   "cell_type": "code",
   "execution_count": 40,
   "id": "e9f7e2ac-8af8-457e-9ce5-ffc9cc974bc7",
   "metadata": {},
   "outputs": [
    {
     "data": {
      "text/plain": [
       "BaseModelOutputWithPoolingAndCrossAttentions(last_hidden_state=tensor([[[ 0.4372,  1.2647,  0.1617,  ..., -0.8632, -0.2230,  2.4517],\n",
       "         [ 0.4037, -0.9196, -0.7497,  ...,  0.0367,  1.0902, -0.7634],\n",
       "         [-0.2758,  2.3355, -0.1460,  ..., -0.2220, -0.5248,  0.5903],\n",
       "         ...,\n",
       "         [ 0.6561,  0.5836, -0.3090,  ..., -0.9481, -0.3316,  1.8215],\n",
       "         [ 0.6561,  0.5836, -0.3090,  ..., -0.9481, -0.3316,  1.8215],\n",
       "         [ 0.6561,  0.5836, -0.3090,  ..., -0.9481, -0.3316,  1.8215]],\n",
       "\n",
       "        [[ 0.6787,  0.7598,  0.6292,  ..., -0.6448, -0.4910,  1.9773],\n",
       "         [ 0.7871, -0.9847, -0.5308,  ..., -0.0184,  0.9848, -0.6030],\n",
       "         [-0.1434,  2.0068, -0.1891,  ..., -0.1338, -0.6584,  0.7653],\n",
       "         ...,\n",
       "         [ 0.5573, -0.1238, -0.0333,  ..., -0.8364, -0.7609,  1.8630],\n",
       "         [ 0.5573, -0.1238, -0.0333,  ..., -0.8364, -0.7609,  1.8630],\n",
       "         [ 0.5573, -0.1238, -0.0333,  ..., -0.8364, -0.7609,  1.8630]],\n",
       "\n",
       "        [[ 0.8735, -0.5985, -1.3702,  ..., -1.0582, -0.0375, -0.2567],\n",
       "         [ 1.4015, -0.9155, -0.0170,  ..., -0.3017,  1.3377, -0.9626],\n",
       "         [ 1.1237, -2.0465, -1.7222,  ..., -0.2269,  0.8797, -0.1262],\n",
       "         ...,\n",
       "         [-0.0856, -0.0028,  0.0324,  ..., -1.0217, -1.4084,  0.0237],\n",
       "         [-1.3017,  0.7641,  0.2650,  ..., -0.8706, -0.4747, -0.0957],\n",
       "         [ 0.7750, -0.4295, -0.5249,  ..., -0.9926,  0.3051, -0.2051]]],\n",
       "       grad_fn=<NativeLayerNormBackward0>), pooler_output=tensor([[ 0.1774,  0.3218, -0.7659,  ..., -0.6894,  0.4542, -0.5937],\n",
       "        [ 0.4413,  0.4500, -0.2882,  ..., -0.7188, -0.2055, -0.5256],\n",
       "        [ 0.4879,  0.0610,  0.1293,  ..., -0.7812,  0.3620,  0.1091]],\n",
       "       grad_fn=<TanhBackward0>), hidden_states=None, past_key_values=None, attentions=None, cross_attentions=None)"
      ]
     },
     "execution_count": 40,
     "metadata": {},
     "output_type": "execute_result"
    }
   ],
   "source": [
    "smiles_encoder(input_ids=input_id, attention_mask=attention_mask)"
   ]
  },
  {
   "cell_type": "code",
   "execution_count": 42,
   "id": "047f42c1-a8c3-463a-ab5a-200af05e8fb8",
   "metadata": {},
   "outputs": [
    {
     "data": {
      "text/plain": [
       "torch.Size([3, 46, 768])"
      ]
     },
     "execution_count": 42,
     "metadata": {},
     "output_type": "execute_result"
    }
   ],
   "source": [
    "smiles_encoder(input_ids=input_id, attention_mask=attention_mask).last_hidden_state.shape"
   ]
  },
  {
   "cell_type": "code",
   "execution_count": 33,
   "id": "e9da58e0-b186-4b6f-9e77-3009cae501ec",
   "metadata": {},
   "outputs": [
    {
     "data": {
      "text/plain": [
       "tensor([[1, 1, 1, 1, 1, 1, 1, 1, 1, 1, 1, 1, 1, 1, 1, 1, 1, 1, 1, 1, 1, 1, 1, 0,\n",
       "         0, 0, 0, 0, 0, 0, 0, 0, 0, 0, 0, 0, 0, 0, 0, 0, 0, 0, 0, 0, 0, 0],\n",
       "        [1, 1, 1, 1, 1, 1, 1, 1, 1, 1, 1, 1, 1, 1, 1, 1, 1, 1, 1, 1, 1, 1, 1, 1,\n",
       "         1, 1, 1, 1, 1, 1, 1, 0, 0, 0, 0, 0, 0, 0, 0, 0, 0, 0, 0, 0, 0, 0],\n",
       "        [1, 1, 1, 1, 1, 1, 1, 1, 1, 1, 1, 1, 1, 1, 1, 1, 1, 1, 1, 1, 1, 1, 1, 1,\n",
       "         1, 1, 1, 1, 1, 1, 1, 1, 1, 1, 1, 1, 1, 1, 1, 1, 1, 1, 1, 1, 1, 1]])"
      ]
     },
     "execution_count": 33,
     "metadata": {},
     "output_type": "execute_result"
    }
   ],
   "source": [
    "attention_mask\n"
   ]
  },
  {
   "cell_type": "code",
   "execution_count": 34,
   "id": "cb0b1667-2423-46a5-91b3-7485b7fd86d5",
   "metadata": {},
   "outputs": [
    {
     "data": {
      "text/plain": [
       "torch.Size([3, 46])"
      ]
     },
     "execution_count": 34,
     "metadata": {},
     "output_type": "execute_result"
    }
   ],
   "source": [
    "input_id.shape"
   ]
  },
  {
   "cell_type": "code",
   "execution_count": 35,
   "id": "e6258441-fb89-4edb-b219-61b83fedcfee",
   "metadata": {},
   "outputs": [
    {
     "data": {
      "text/plain": [
       "RobertaConfig {\n",
       "  \"_attn_implementation_autoset\": true,\n",
       "  \"_name_or_path\": \"seyonec/ChemBERTa-zinc-base-v1\",\n",
       "  \"architectures\": [\n",
       "    \"RobertaForMaskedLM\"\n",
       "  ],\n",
       "  \"attention_probs_dropout_prob\": 0.1,\n",
       "  \"bos_token_id\": 0,\n",
       "  \"classifier_dropout\": null,\n",
       "  \"eos_token_id\": 2,\n",
       "  \"hidden_act\": \"gelu\",\n",
       "  \"hidden_dropout_prob\": 0.1,\n",
       "  \"hidden_size\": 768,\n",
       "  \"initializer_range\": 0.02,\n",
       "  \"intermediate_size\": 3072,\n",
       "  \"layer_norm_eps\": 1e-05,\n",
       "  \"max_position_embeddings\": 514,\n",
       "  \"model_type\": \"roberta\",\n",
       "  \"num_attention_heads\": 12,\n",
       "  \"num_hidden_layers\": 6,\n",
       "  \"output_past\": true,\n",
       "  \"pad_token_id\": 1,\n",
       "  \"position_embedding_type\": \"absolute\",\n",
       "  \"transformers_version\": \"4.46.3\",\n",
       "  \"type_vocab_size\": 1,\n",
       "  \"use_cache\": true,\n",
       "  \"vocab_size\": 767\n",
       "}"
      ]
     },
     "execution_count": 35,
     "metadata": {},
     "output_type": "execute_result"
    }
   ],
   "source": [
    "smiles_encoder.config"
   ]
  },
  {
   "cell_type": "code",
   "execution_count": 21,
   "id": "7c94427d-6ee1-4098-b484-a9316ecea1d3",
   "metadata": {},
   "outputs": [
    {
     "data": {
      "text/plain": [
       "DRUG_NAME\n",
       "BMS-536924     977\n",
       "Avagacestat    976\n",
       "Gemcitabine    976\n",
       "Palbociclib    975\n",
       "Olaparib       975\n",
       "              ... \n",
       "torin2         131\n",
       "HG-6-71-01     131\n",
       "THZ-2-98-01     99\n",
       "XMD11-50        99\n",
       "THZ-1-87        99\n",
       "Name: count, Length: 542, dtype: int64"
      ]
     },
     "execution_count": 21,
     "metadata": {},
     "output_type": "execute_result"
    }
   ],
   "source": [
    "import pandas as pd\n",
    "gdsc = pd.read_csv('/hpc/home/yc583/Tahoe100M_practice/data/GDSC_processed.csv')\n",
    "gdsc['DRUG_NAME'].value_counts()"
   ]
  },
  {
   "cell_type": "code",
   "execution_count": 22,
   "id": "a3fa18a2-23f6-4b9c-8f8c-b60542388e2e",
   "metadata": {},
   "outputs": [
    {
     "data": {
      "text/html": [
       "<div>\n",
       "<style scoped>\n",
       "    .dataframe tbody tr th:only-of-type {\n",
       "        vertical-align: middle;\n",
       "    }\n",
       "\n",
       "    .dataframe tbody tr th {\n",
       "        vertical-align: top;\n",
       "    }\n",
       "\n",
       "    .dataframe thead th {\n",
       "        text-align: right;\n",
       "    }\n",
       "</style>\n",
       "<table border=\"1\" class=\"dataframe\">\n",
       "  <thead>\n",
       "    <tr style=\"text-align: right;\">\n",
       "      <th></th>\n",
       "      <th>cell_name</th>\n",
       "      <th>Cell_ID_Cellosaur</th>\n",
       "    </tr>\n",
       "  </thead>\n",
       "  <tbody>\n",
       "    <tr>\n",
       "      <th>0</th>\n",
       "      <td>A549</td>\n",
       "      <td>CVCL_0023</td>\n",
       "    </tr>\n",
       "    <tr>\n",
       "      <th>1</th>\n",
       "      <td>HOP-92</td>\n",
       "      <td>CVCL_1286</td>\n",
       "    </tr>\n",
       "    <tr>\n",
       "      <th>2</th>\n",
       "      <td>HMVII</td>\n",
       "      <td>CVCL_1282</td>\n",
       "    </tr>\n",
       "    <tr>\n",
       "      <th>3</th>\n",
       "      <td>Hs 936.T(C1)</td>\n",
       "      <td>CVCL_1034</td>\n",
       "    </tr>\n",
       "    <tr>\n",
       "      <th>4</th>\n",
       "      <td>MM485</td>\n",
       "      <td>CVCL_2610</td>\n",
       "    </tr>\n",
       "    <tr>\n",
       "      <th>...</th>\n",
       "      <td>...</td>\n",
       "      <td>...</td>\n",
       "    </tr>\n",
       "    <tr>\n",
       "      <th>97</th>\n",
       "      <td>NCI-H23</td>\n",
       "      <td>CVCL_1547</td>\n",
       "    </tr>\n",
       "    <tr>\n",
       "      <th>98</th>\n",
       "      <td>NCI-H1792</td>\n",
       "      <td>CVCL_1495</td>\n",
       "    </tr>\n",
       "    <tr>\n",
       "      <th>99</th>\n",
       "      <td>NCI-H2122</td>\n",
       "      <td>CVCL_1531</td>\n",
       "    </tr>\n",
       "    <tr>\n",
       "      <th>100</th>\n",
       "      <td>NCI-H2030</td>\n",
       "      <td>CVCL_1517</td>\n",
       "    </tr>\n",
       "    <tr>\n",
       "      <th>101</th>\n",
       "      <td>LOX-IMVI</td>\n",
       "      <td>CVCL_1381</td>\n",
       "    </tr>\n",
       "  </tbody>\n",
       "</table>\n",
       "<p>102 rows × 2 columns</p>\n",
       "</div>"
      ],
      "text/plain": [
       "        cell_name Cell_ID_Cellosaur\n",
       "0            A549         CVCL_0023\n",
       "1          HOP-92         CVCL_1286\n",
       "2           HMVII         CVCL_1282\n",
       "3    Hs 936.T(C1)         CVCL_1034\n",
       "4           MM485         CVCL_2610\n",
       "..            ...               ...\n",
       "97        NCI-H23         CVCL_1547\n",
       "98      NCI-H1792         CVCL_1495\n",
       "99      NCI-H2122         CVCL_1531\n",
       "100     NCI-H2030         CVCL_1517\n",
       "101      LOX-IMVI         CVCL_1381\n",
       "\n",
       "[102 rows x 2 columns]"
      ]
     },
     "execution_count": 22,
     "metadata": {},
     "output_type": "execute_result"
    }
   ],
   "source": [
    "cell_line = pd.read_csv('/hpc/home/yc583/Tahoe100M_practice/data/cell_line_mapping_table.csv')\n",
    "cell_line"
   ]
  },
  {
   "cell_type": "code",
   "execution_count": 26,
   "id": "3b4f8635-443c-4842-bd97-cea4150d7914",
   "metadata": {},
   "outputs": [],
   "source": [
    "gdsc_cell = pd.merge(gdsc, cell_line, left_on='CELL_LINE_NAME', right_on='cell_name')\n",
    "target_cell = list(gdsc_cell['Cell_ID_Cellosaur'].unique())\n",
    "df = pd.DataFrame({'cell_name':target_cell})\n",
    "df.to_csv('/hpc/home/yc583/Tahoe100M_practice/data/cell_table.csv', index=False)"
   ]
  },
  {
   "cell_type": "code",
   "execution_count": 8,
   "id": "6f05d141-8061-43e8-a161-80f7481a886c",
   "metadata": {},
   "outputs": [
    {
     "data": {
      "application/vnd.jupyter.widget-view+json": {
       "model_id": "f09cf8d353494376890535da31cd26ec",
       "version_major": 2,
       "version_minor": 0
      },
      "text/plain": [
       "Resolving data files:   0%|          | 0/3388 [00:00<?, ?it/s]"
      ]
     },
     "metadata": {},
     "output_type": "display_data"
    },
    {
     "data": {
      "text/html": [
       "<div>\n",
       "<style scoped>\n",
       "    .dataframe tbody tr th:only-of-type {\n",
       "        vertical-align: middle;\n",
       "    }\n",
       "\n",
       "    .dataframe tbody tr th {\n",
       "        vertical-align: top;\n",
       "    }\n",
       "\n",
       "    .dataframe thead th {\n",
       "        text-align: right;\n",
       "    }\n",
       "</style>\n",
       "<table border=\"1\" class=\"dataframe\">\n",
       "  <thead>\n",
       "    <tr style=\"text-align: right;\">\n",
       "      <th></th>\n",
       "      <th>drug</th>\n",
       "      <th>targets</th>\n",
       "      <th>moa-broad</th>\n",
       "      <th>moa-fine</th>\n",
       "      <th>human-approved</th>\n",
       "      <th>clinical-trials</th>\n",
       "      <th>gpt-notes-approval</th>\n",
       "      <th>canonical_smiles</th>\n",
       "      <th>pubchem_cid</th>\n",
       "    </tr>\n",
       "  </thead>\n",
       "  <tbody>\n",
       "    <tr>\n",
       "      <th>0</th>\n",
       "      <td>Talc</td>\n",
       "      <td>None</td>\n",
       "      <td>unclear</td>\n",
       "      <td>unclear</td>\n",
       "      <td>yes</td>\n",
       "      <td>yes</td>\n",
       "      <td>Talc used in pharma and cosmetics; safety unde...</td>\n",
       "      <td>[OH-].[OH-].[O-][Si]12O[Si]3(O[Si](O1)(O[Si](O...</td>\n",
       "      <td>165411828.0</td>\n",
       "    </tr>\n",
       "    <tr>\n",
       "      <th>1</th>\n",
       "      <td>Bortezomib</td>\n",
       "      <td>PSMB5</td>\n",
       "      <td>inhibitor/antagonist</td>\n",
       "      <td>Proteasome inhibitor</td>\n",
       "      <td>yes</td>\n",
       "      <td>yes</td>\n",
       "      <td>Approved for multiple myeloma and mantle cell ...</td>\n",
       "      <td>B(C(CC(C)C)NC(=O)C(CC1=CC=CC=C1)NC(=O)C2=NC=CN...</td>\n",
       "      <td>387447.0</td>\n",
       "    </tr>\n",
       "    <tr>\n",
       "      <th>2</th>\n",
       "      <td>Ixazomib</td>\n",
       "      <td>PSMB5</td>\n",
       "      <td>inhibitor/antagonist</td>\n",
       "      <td>Proteasome inhibitor</td>\n",
       "      <td>yes</td>\n",
       "      <td>yes</td>\n",
       "      <td>Approved for multiple myeloma treatment.</td>\n",
       "      <td>B(C(CC(C)C)NC(=O)CNC(=O)C1=C(C=CC(=C1)Cl)Cl)(O)O</td>\n",
       "      <td>25183872.0</td>\n",
       "    </tr>\n",
       "    <tr>\n",
       "      <th>3</th>\n",
       "      <td>Ixazomib citrate</td>\n",
       "      <td>PSMB1, PSMB2, PSMB5</td>\n",
       "      <td>inhibitor/antagonist</td>\n",
       "      <td>Proteasome inhibitor</td>\n",
       "      <td>yes</td>\n",
       "      <td>yes</td>\n",
       "      <td>Approved for multiple myeloma treatment as par...</td>\n",
       "      <td>B1(OC(=O)C(O1)(CC(=O)O)CC(=O)O)C(CC(C)C)NC(=O)...</td>\n",
       "      <td>56844015.0</td>\n",
       "    </tr>\n",
       "    <tr>\n",
       "      <th>4</th>\n",
       "      <td>Lactate (calcium)</td>\n",
       "      <td>None</td>\n",
       "      <td>unclear</td>\n",
       "      <td>unclear</td>\n",
       "      <td>yes</td>\n",
       "      <td>yes</td>\n",
       "      <td>Used in medical settings, but not specifically...</td>\n",
       "      <td>C.CC(C(=O)[O-])O.[Ca+2]</td>\n",
       "      <td>168311648.0</td>\n",
       "    </tr>\n",
       "    <tr>\n",
       "      <th>...</th>\n",
       "      <td>...</td>\n",
       "      <td>...</td>\n",
       "      <td>...</td>\n",
       "      <td>...</td>\n",
       "      <td>...</td>\n",
       "      <td>...</td>\n",
       "      <td>...</td>\n",
       "      <td>...</td>\n",
       "      <td>...</td>\n",
       "    </tr>\n",
       "    <tr>\n",
       "      <th>374</th>\n",
       "      <td>Verteporfin</td>\n",
       "      <td>YAP1</td>\n",
       "      <td>inhibitor/antagonist</td>\n",
       "      <td>unclear</td>\n",
       "      <td>yes</td>\n",
       "      <td>yes</td>\n",
       "      <td>Used in photodynamic therapy for macular degen...</td>\n",
       "      <td>None</td>\n",
       "      <td>NaN</td>\n",
       "    </tr>\n",
       "    <tr>\n",
       "      <th>375</th>\n",
       "      <td>Quinidine (15% dihydroquinidine)</td>\n",
       "      <td>KCNH2</td>\n",
       "      <td>inhibitor/antagonist</td>\n",
       "      <td>unclear</td>\n",
       "      <td>yes</td>\n",
       "      <td>yes</td>\n",
       "      <td>Approved for arrhythmias as part of quinine al...</td>\n",
       "      <td>COC1=CC2=C(C=CN=C2C=C1)[C@@H]([C@H]3C[C@@H]4CC...</td>\n",
       "      <td>441074.0</td>\n",
       "    </tr>\n",
       "    <tr>\n",
       "      <th>376</th>\n",
       "      <td>Canagliflozin (hemihydrate)</td>\n",
       "      <td>SLC5A2</td>\n",
       "      <td>inhibitor/antagonist</td>\n",
       "      <td>Glucose transporter inhibitor</td>\n",
       "      <td>yes</td>\n",
       "      <td>yes</td>\n",
       "      <td>Approved for type 2 diabetes.</td>\n",
       "      <td>CC1=C(C=C(C=C1)[C@H]2[C@@H]([C@H]([C@@H]([C@H]...</td>\n",
       "      <td>24997615.0</td>\n",
       "    </tr>\n",
       "    <tr>\n",
       "      <th>377</th>\n",
       "      <td>Osimertinib (mesylate)</td>\n",
       "      <td>EGFR</td>\n",
       "      <td>inhibitor/antagonist</td>\n",
       "      <td>EGFR/ERBB inhibitor</td>\n",
       "      <td>yes</td>\n",
       "      <td>yes</td>\n",
       "      <td>Approved for non-small cell lung cancer treatm...</td>\n",
       "      <td>CN1C=C(C2=CC=CC=C21)C3=NC(=NC=C3)NC4=C(C=C(C(=...</td>\n",
       "      <td>78357807.0</td>\n",
       "    </tr>\n",
       "    <tr>\n",
       "      <th>378</th>\n",
       "      <td>γ-Oryzanol</td>\n",
       "      <td>None</td>\n",
       "      <td>inhibitor/antagonist</td>\n",
       "      <td>DNA methyltransferase inhibitor</td>\n",
       "      <td>no</td>\n",
       "      <td>yes</td>\n",
       "      <td>Used in supplements; limited human data.</td>\n",
       "      <td>C[C@H](CCC=C(C)C)[C@H]1CC[C@@]2([C@@]1(CC[C@]3...</td>\n",
       "      <td>5282164.0</td>\n",
       "    </tr>\n",
       "  </tbody>\n",
       "</table>\n",
       "<p>379 rows × 9 columns</p>\n",
       "</div>"
      ],
      "text/plain": [
       "                                 drug              targets  \\\n",
       "0                                Talc                 None   \n",
       "1                          Bortezomib                PSMB5   \n",
       "2                            Ixazomib                PSMB5   \n",
       "3                    Ixazomib citrate  PSMB1, PSMB2, PSMB5   \n",
       "4                   Lactate (calcium)                 None   \n",
       "..                                ...                  ...   \n",
       "374                       Verteporfin                 YAP1   \n",
       "375  Quinidine (15% dihydroquinidine)                KCNH2   \n",
       "376       Canagliflozin (hemihydrate)               SLC5A2   \n",
       "377            Osimertinib (mesylate)                 EGFR   \n",
       "378                        γ-Oryzanol                 None   \n",
       "\n",
       "                moa-broad                         moa-fine human-approved  \\\n",
       "0                 unclear                          unclear            yes   \n",
       "1    inhibitor/antagonist             Proteasome inhibitor            yes   \n",
       "2    inhibitor/antagonist             Proteasome inhibitor            yes   \n",
       "3    inhibitor/antagonist             Proteasome inhibitor            yes   \n",
       "4                 unclear                          unclear            yes   \n",
       "..                    ...                              ...            ...   \n",
       "374  inhibitor/antagonist                          unclear            yes   \n",
       "375  inhibitor/antagonist                          unclear            yes   \n",
       "376  inhibitor/antagonist    Glucose transporter inhibitor            yes   \n",
       "377  inhibitor/antagonist              EGFR/ERBB inhibitor            yes   \n",
       "378  inhibitor/antagonist  DNA methyltransferase inhibitor             no   \n",
       "\n",
       "    clinical-trials                                 gpt-notes-approval  \\\n",
       "0               yes  Talc used in pharma and cosmetics; safety unde...   \n",
       "1               yes  Approved for multiple myeloma and mantle cell ...   \n",
       "2               yes           Approved for multiple myeloma treatment.   \n",
       "3               yes  Approved for multiple myeloma treatment as par...   \n",
       "4               yes  Used in medical settings, but not specifically...   \n",
       "..              ...                                                ...   \n",
       "374             yes  Used in photodynamic therapy for macular degen...   \n",
       "375             yes  Approved for arrhythmias as part of quinine al...   \n",
       "376             yes                      Approved for type 2 diabetes.   \n",
       "377             yes  Approved for non-small cell lung cancer treatm...   \n",
       "378             yes           Used in supplements; limited human data.   \n",
       "\n",
       "                                      canonical_smiles  pubchem_cid  \n",
       "0    [OH-].[OH-].[O-][Si]12O[Si]3(O[Si](O1)(O[Si](O...  165411828.0  \n",
       "1    B(C(CC(C)C)NC(=O)C(CC1=CC=CC=C1)NC(=O)C2=NC=CN...     387447.0  \n",
       "2     B(C(CC(C)C)NC(=O)CNC(=O)C1=C(C=CC(=C1)Cl)Cl)(O)O   25183872.0  \n",
       "3    B1(OC(=O)C(O1)(CC(=O)O)CC(=O)O)C(CC(C)C)NC(=O)...   56844015.0  \n",
       "4                              C.CC(C(=O)[O-])O.[Ca+2]  168311648.0  \n",
       "..                                                 ...          ...  \n",
       "374                                               None          NaN  \n",
       "375  COC1=CC2=C(C=CN=C2C=C1)[C@@H]([C@H]3C[C@@H]4CC...     441074.0  \n",
       "376  CC1=C(C=C(C=C1)[C@H]2[C@@H]([C@H]([C@@H]([C@H]...   24997615.0  \n",
       "377  CN1C=C(C2=CC=CC=C21)C3=NC(=NC=C3)NC4=C(C=C(C(=...   78357807.0  \n",
       "378  C[C@H](CCC=C(C)C)[C@H]1CC[C@@]2([C@@]1(CC[C@]3...    5282164.0  \n",
       "\n",
       "[379 rows x 9 columns]"
      ]
     },
     "execution_count": 8,
     "metadata": {},
     "output_type": "execute_result"
    }
   ],
   "source": [
    "from datasets import load_dataset\n",
    "drug =  load_dataset(\"tahoebio/Tahoe-100M\",\"drug_metadata\", split=\"train\").to_pandas()\n",
    "drug"
   ]
  },
  {
   "cell_type": "code",
   "execution_count": 15,
   "id": "a961e59c-4c55-4cac-bc3a-bf3ef871805a",
   "metadata": {},
   "outputs": [
    {
     "data": {
      "text/plain": [
       "array(['Erlotinib', 'Rapamycin', 'Sunitinib', 'Paclitaxel', 'Bortezomib',\n",
       "       'Gemcitabine', 'Bicalutamide', 'Ponatinib', '5-Fluorouracil',\n",
       "       'Bexarotene', 'Belinostat', 'NVP-BHG712', 'GSK1059615',\n",
       "       'Pemetrexed', 'Panobinostat', 'Cytarabine', 'Docetaxel',\n",
       "       'Methotrexate', 'Gefitinib', 'Temsirolimus', 'Vismodegib',\n",
       "       'Capivasertib', 'Trametinib', 'Dabrafenib', 'Afatinib',\n",
       "       'Fulvestrant', 'Irinotecan', 'Oxaliplatin', 'Dinaciclib',\n",
       "       'Alpelisib', 'Ribociclib', 'Ipatasertib', 'LJI308'], dtype=object)"
      ]
     },
     "execution_count": 15,
     "metadata": {},
     "output_type": "execute_result"
    }
   ],
   "source": [
    "gdsc_drug = pd.merge(gdsc, drug, left_on='DRUG_NAME', right_on='drug')\n",
    "gdsc_drug['DRUG_NAME'].unique()"
   ]
  },
  {
   "cell_type": "code",
   "execution_count": 18,
   "id": "2ac96e04-a4fa-444d-a386-5c4981900c15",
   "metadata": {},
   "outputs": [],
   "source": [
    "target_drugs = list(gdsc_drug['DRUG_NAME'].unique())\n",
    "df = pd.DataFrame({'drug_name':target_drugs})\n",
    "df.to_csv('/hpc/home/yc583/Tahoe100M_practice/data/drug_table.csv', index=False)"
   ]
  },
  {
   "cell_type": "code",
   "execution_count": 11,
   "id": "685b235a-39a7-4f5d-a7c0-378ffdca3d24",
   "metadata": {},
   "outputs": [
    {
     "data": {
      "text/html": [
       "<div>\n",
       "<style scoped>\n",
       "    .dataframe tbody tr th:only-of-type {\n",
       "        vertical-align: middle;\n",
       "    }\n",
       "\n",
       "    .dataframe tbody tr th {\n",
       "        vertical-align: top;\n",
       "    }\n",
       "\n",
       "    .dataframe thead th {\n",
       "        text-align: right;\n",
       "    }\n",
       "</style>\n",
       "<table border=\"1\" class=\"dataframe\">\n",
       "  <thead>\n",
       "    <tr style=\"text-align: right;\">\n",
       "      <th></th>\n",
       "      <th>genes</th>\n",
       "      <th>expressions</th>\n",
       "    </tr>\n",
       "  </thead>\n",
       "  <tbody>\n",
       "    <tr>\n",
       "      <th>0</th>\n",
       "      <td>GENE0,GENE1,GENE2,GENE3</td>\n",
       "      <td>EXP0,0.1,0.2,0.3</td>\n",
       "    </tr>\n",
       "    <tr>\n",
       "      <th>1</th>\n",
       "      <td>GENE0,GENE4,GENE5</td>\n",
       "      <td>EXP0,0.4,0.5</td>\n",
       "    </tr>\n",
       "    <tr>\n",
       "      <th>2</th>\n",
       "      <td>GENE0,GENE6</td>\n",
       "      <td>EXP0,0.6</td>\n",
       "    </tr>\n",
       "    <tr>\n",
       "      <th>3</th>\n",
       "      <td>GENE0,GENE7,GENE8,GENE9,GENE10</td>\n",
       "      <td>EXP0,0.7,0.8,0.9,1.0</td>\n",
       "    </tr>\n",
       "  </tbody>\n",
       "</table>\n",
       "</div>"
      ],
      "text/plain": [
       "                            genes           expressions\n",
       "0         GENE0,GENE1,GENE2,GENE3      EXP0,0.1,0.2,0.3\n",
       "1               GENE0,GENE4,GENE5          EXP0,0.4,0.5\n",
       "2                     GENE0,GENE6              EXP0,0.6\n",
       "3  GENE0,GENE7,GENE8,GENE9,GENE10  EXP0,0.7,0.8,0.9,1.0"
      ]
     },
     "execution_count": 11,
     "metadata": {},
     "output_type": "execute_result"
    }
   ],
   "source": [
    "import pandas as pd\n",
    "\n",
    "# Create a simple toy dataset\n",
    "data = {\n",
    "    'genes': [\n",
    "        \"GENE0,GENE1,GENE2,GENE3\",\n",
    "        \"GENE0,GENE4,GENE5\",\n",
    "        \"GENE0,GENE6\",\n",
    "        \"GENE0,GENE7,GENE8,GENE9,GENE10\"\n",
    "    ],\n",
    "    'expressions': [\n",
    "        \"EXP0,0.1,0.2,0.3\",\n",
    "        \"EXP0,0.4,0.5\",\n",
    "        \"EXP0,0.6\",\n",
    "        \"EXP0,0.7,0.8,0.9,1.0\"\n",
    "    ]\n",
    "}\n",
    "\n",
    "df = pd.DataFrame(data)\n",
    "df"
   ]
  },
  {
   "cell_type": "code",
   "execution_count": 12,
   "id": "1d9fe3c5-ab1a-4f4f-b5f3-2b2b7a08f637",
   "metadata": {},
   "outputs": [
    {
     "data": {
      "text/html": [
       "<div>\n",
       "<style scoped>\n",
       "    .dataframe tbody tr th:only-of-type {\n",
       "        vertical-align: middle;\n",
       "    }\n",
       "\n",
       "    .dataframe tbody tr th {\n",
       "        vertical-align: top;\n",
       "    }\n",
       "\n",
       "    .dataframe thead th {\n",
       "        text-align: right;\n",
       "    }\n",
       "</style>\n",
       "<table border=\"1\" class=\"dataframe\">\n",
       "  <thead>\n",
       "    <tr style=\"text-align: right;\">\n",
       "      <th></th>\n",
       "      <th>genes</th>\n",
       "      <th>expressions</th>\n",
       "    </tr>\n",
       "  </thead>\n",
       "  <tbody>\n",
       "    <tr>\n",
       "      <th>0</th>\n",
       "      <td>[GENE1, GENE2, GENE3]</td>\n",
       "      <td>[0.1, 0.2, 0.3]</td>\n",
       "    </tr>\n",
       "    <tr>\n",
       "      <th>1</th>\n",
       "      <td>[GENE4, GENE5]</td>\n",
       "      <td>[0.4, 0.5]</td>\n",
       "    </tr>\n",
       "    <tr>\n",
       "      <th>2</th>\n",
       "      <td>[GENE6]</td>\n",
       "      <td>[0.6]</td>\n",
       "    </tr>\n",
       "    <tr>\n",
       "      <th>3</th>\n",
       "      <td>[GENE7, GENE8, GENE9, GENE10]</td>\n",
       "      <td>[0.7, 0.8, 0.9, 1.0]</td>\n",
       "    </tr>\n",
       "  </tbody>\n",
       "</table>\n",
       "</div>"
      ],
      "text/plain": [
       "                           genes           expressions\n",
       "0          [GENE1, GENE2, GENE3]       [0.1, 0.2, 0.3]\n",
       "1                 [GENE4, GENE5]            [0.4, 0.5]\n",
       "2                        [GENE6]                 [0.6]\n",
       "3  [GENE7, GENE8, GENE9, GENE10]  [0.7, 0.8, 0.9, 1.0]"
      ]
     },
     "execution_count": 12,
     "metadata": {},
     "output_type": "execute_result"
    }
   ],
   "source": [
    "def split_skip_first(x):\n",
    "    return (i for i in x.split(',')[1:])  # generator version\n",
    "\n",
    "# Apply to DataFrame\n",
    "df['genes'] = df['genes'].apply(split_skip_first)\n",
    "df['expressions'] = df['expressions'].apply(split_skip_first)\n",
    "df['genes'] = df['genes'].apply(list)\n",
    "df['expressions'] = df['expressions'].apply(list)\n",
    "df"
   ]
  },
  {
   "cell_type": "code",
   "execution_count": 21,
   "id": "23e350fb-ea48-487b-9155-19f12d1e281c",
   "metadata": {},
   "outputs": [
    {
     "data": {
      "text/plain": [
       "[10, 2, 3]"
      ]
     },
     "execution_count": 21,
     "metadata": {},
     "output_type": "execute_result"
    }
   ],
   "source": [
    "x='10,2,3'\n",
    "y='['+x+']'\n",
    "eval('['+'10,2,3'+']')"
   ]
  },
  {
   "cell_type": "code",
   "execution_count": 14,
   "id": "f857ca0c-ce4b-44b3-acb3-ac8520e6af4b",
   "metadata": {},
   "outputs": [
    {
     "data": {
      "text/plain": [
       "1"
      ]
     },
     "execution_count": 14,
     "metadata": {},
     "output_type": "execute_result"
    }
   ],
   "source": [
    "eval(y)[0]"
   ]
  },
  {
   "cell_type": "code",
   "execution_count": 19,
   "id": "6b8f98f1-0778-4b34-ac64-339c6ce6db20",
   "metadata": {},
   "outputs": [
    {
     "ename": "NameError",
     "evalue": "name 'GENE0' is not defined",
     "output_type": "error",
     "traceback": [
      "\u001b[0;31m---------------------------------------------------------------------------\u001b[0m",
      "\u001b[0;31mNameError\u001b[0m                                 Traceback (most recent call last)",
      "Cell \u001b[0;32mIn[19], line 1\u001b[0m\n\u001b[0;32m----> 1\u001b[0m \u001b[38;5;28;43meval\u001b[39;49m\u001b[43m(\u001b[49m\u001b[38;5;124;43m'\u001b[39;49m\u001b[38;5;124;43m[\u001b[39;49m\u001b[38;5;124;43m'\u001b[39;49m\u001b[43m \u001b[49m\u001b[38;5;241;43m+\u001b[39;49m\u001b[43m \u001b[49m\u001b[38;5;124;43m'\u001b[39;49m\u001b[38;5;124;43mGENE0,GENE1,GENE2\u001b[39;49m\u001b[38;5;124;43m'\u001b[39;49m\u001b[43m \u001b[49m\u001b[38;5;241;43m+\u001b[39;49m\u001b[43m \u001b[49m\u001b[38;5;124;43m'\u001b[39;49m\u001b[38;5;124;43m]\u001b[39;49m\u001b[38;5;124;43m'\u001b[39;49m\u001b[43m)\u001b[49m\n",
      "File \u001b[0;32m<string>:1\u001b[0m\n",
      "\u001b[0;31mNameError\u001b[0m: name 'GENE0' is not defined"
     ]
    }
   ],
   "source": [
    "eval('[' + 'GENE0,GENE1,GENE2' + ']')"
   ]
  },
  {
   "cell_type": "code",
   "execution_count": 1,
   "id": "5d17bfd5-2d8d-4abf-8a1a-3e2b55b2f518",
   "metadata": {},
   "outputs": [
    {
     "ename": "EmptyDataError",
     "evalue": "No columns to parse from file",
     "output_type": "error",
     "traceback": [
      "\u001b[0;31m---------------------------------------------------------------------------\u001b[0m",
      "\u001b[0;31mEmptyDataError\u001b[0m                            Traceback (most recent call last)",
      "Cell \u001b[0;32mIn[1], line 3\u001b[0m\n\u001b[1;32m      1\u001b[0m \u001b[38;5;28;01mimport\u001b[39;00m \u001b[38;5;21;01mpandas\u001b[39;00m \u001b[38;5;28;01mas\u001b[39;00m \u001b[38;5;21;01mpd\u001b[39;00m\n\u001b[0;32m----> 3\u001b[0m df \u001b[38;5;241m=\u001b[39m \u001b[43mpd\u001b[49m\u001b[38;5;241;43m.\u001b[39;49m\u001b[43mread_csv\u001b[49m\u001b[43m(\u001b[49m\u001b[38;5;124;43m'\u001b[39;49m\u001b[38;5;124;43m/hpc/group/biostat/yc583/Tahoe_GDSC_0.2.csv.gz\u001b[39;49m\u001b[38;5;124;43m'\u001b[39;49m\u001b[43m,\u001b[49m\u001b[43m \u001b[49m\u001b[43mon_bad_lines\u001b[49m\u001b[38;5;241;43m=\u001b[39;49m\u001b[38;5;124;43m'\u001b[39;49m\u001b[38;5;124;43mskip\u001b[39;49m\u001b[38;5;124;43m'\u001b[39;49m\u001b[43m,\u001b[49m\u001b[43m \u001b[49m\u001b[43mcompression\u001b[49m\u001b[38;5;241;43m=\u001b[39;49m\u001b[38;5;124;43m'\u001b[39;49m\u001b[38;5;124;43mgzip\u001b[39;49m\u001b[38;5;124;43m'\u001b[39;49m\u001b[43m)\u001b[49m\n\u001b[1;32m      4\u001b[0m df\n",
      "File \u001b[0;32m/opt/conda/lib/python3.11/site-packages/pandas/io/parsers/readers.py:1026\u001b[0m, in \u001b[0;36mread_csv\u001b[0;34m(filepath_or_buffer, sep, delimiter, header, names, index_col, usecols, dtype, engine, converters, true_values, false_values, skipinitialspace, skiprows, skipfooter, nrows, na_values, keep_default_na, na_filter, verbose, skip_blank_lines, parse_dates, infer_datetime_format, keep_date_col, date_parser, date_format, dayfirst, cache_dates, iterator, chunksize, compression, thousands, decimal, lineterminator, quotechar, quoting, doublequote, escapechar, comment, encoding, encoding_errors, dialect, on_bad_lines, delim_whitespace, low_memory, memory_map, float_precision, storage_options, dtype_backend)\u001b[0m\n\u001b[1;32m   1013\u001b[0m kwds_defaults \u001b[38;5;241m=\u001b[39m _refine_defaults_read(\n\u001b[1;32m   1014\u001b[0m     dialect,\n\u001b[1;32m   1015\u001b[0m     delimiter,\n\u001b[0;32m   (...)\u001b[0m\n\u001b[1;32m   1022\u001b[0m     dtype_backend\u001b[38;5;241m=\u001b[39mdtype_backend,\n\u001b[1;32m   1023\u001b[0m )\n\u001b[1;32m   1024\u001b[0m kwds\u001b[38;5;241m.\u001b[39mupdate(kwds_defaults)\n\u001b[0;32m-> 1026\u001b[0m \u001b[38;5;28;01mreturn\u001b[39;00m \u001b[43m_read\u001b[49m\u001b[43m(\u001b[49m\u001b[43mfilepath_or_buffer\u001b[49m\u001b[43m,\u001b[49m\u001b[43m \u001b[49m\u001b[43mkwds\u001b[49m\u001b[43m)\u001b[49m\n",
      "File \u001b[0;32m/opt/conda/lib/python3.11/site-packages/pandas/io/parsers/readers.py:620\u001b[0m, in \u001b[0;36m_read\u001b[0;34m(filepath_or_buffer, kwds)\u001b[0m\n\u001b[1;32m    617\u001b[0m _validate_names(kwds\u001b[38;5;241m.\u001b[39mget(\u001b[38;5;124m\"\u001b[39m\u001b[38;5;124mnames\u001b[39m\u001b[38;5;124m\"\u001b[39m, \u001b[38;5;28;01mNone\u001b[39;00m))\n\u001b[1;32m    619\u001b[0m \u001b[38;5;66;03m# Create the parser.\u001b[39;00m\n\u001b[0;32m--> 620\u001b[0m parser \u001b[38;5;241m=\u001b[39m \u001b[43mTextFileReader\u001b[49m\u001b[43m(\u001b[49m\u001b[43mfilepath_or_buffer\u001b[49m\u001b[43m,\u001b[49m\u001b[43m \u001b[49m\u001b[38;5;241;43m*\u001b[39;49m\u001b[38;5;241;43m*\u001b[39;49m\u001b[43mkwds\u001b[49m\u001b[43m)\u001b[49m\n\u001b[1;32m    622\u001b[0m \u001b[38;5;28;01mif\u001b[39;00m chunksize \u001b[38;5;129;01mor\u001b[39;00m iterator:\n\u001b[1;32m    623\u001b[0m     \u001b[38;5;28;01mreturn\u001b[39;00m parser\n",
      "File \u001b[0;32m/opt/conda/lib/python3.11/site-packages/pandas/io/parsers/readers.py:1620\u001b[0m, in \u001b[0;36mTextFileReader.__init__\u001b[0;34m(self, f, engine, **kwds)\u001b[0m\n\u001b[1;32m   1617\u001b[0m     \u001b[38;5;28mself\u001b[39m\u001b[38;5;241m.\u001b[39moptions[\u001b[38;5;124m\"\u001b[39m\u001b[38;5;124mhas_index_names\u001b[39m\u001b[38;5;124m\"\u001b[39m] \u001b[38;5;241m=\u001b[39m kwds[\u001b[38;5;124m\"\u001b[39m\u001b[38;5;124mhas_index_names\u001b[39m\u001b[38;5;124m\"\u001b[39m]\n\u001b[1;32m   1619\u001b[0m \u001b[38;5;28mself\u001b[39m\u001b[38;5;241m.\u001b[39mhandles: IOHandles \u001b[38;5;241m|\u001b[39m \u001b[38;5;28;01mNone\u001b[39;00m \u001b[38;5;241m=\u001b[39m \u001b[38;5;28;01mNone\u001b[39;00m\n\u001b[0;32m-> 1620\u001b[0m \u001b[38;5;28mself\u001b[39m\u001b[38;5;241m.\u001b[39m_engine \u001b[38;5;241m=\u001b[39m \u001b[38;5;28;43mself\u001b[39;49m\u001b[38;5;241;43m.\u001b[39;49m\u001b[43m_make_engine\u001b[49m\u001b[43m(\u001b[49m\u001b[43mf\u001b[49m\u001b[43m,\u001b[49m\u001b[43m \u001b[49m\u001b[38;5;28;43mself\u001b[39;49m\u001b[38;5;241;43m.\u001b[39;49m\u001b[43mengine\u001b[49m\u001b[43m)\u001b[49m\n",
      "File \u001b[0;32m/opt/conda/lib/python3.11/site-packages/pandas/io/parsers/readers.py:1898\u001b[0m, in \u001b[0;36mTextFileReader._make_engine\u001b[0;34m(self, f, engine)\u001b[0m\n\u001b[1;32m   1895\u001b[0m     \u001b[38;5;28;01mraise\u001b[39;00m \u001b[38;5;167;01mValueError\u001b[39;00m(msg)\n\u001b[1;32m   1897\u001b[0m \u001b[38;5;28;01mtry\u001b[39;00m:\n\u001b[0;32m-> 1898\u001b[0m     \u001b[38;5;28;01mreturn\u001b[39;00m \u001b[43mmapping\u001b[49m\u001b[43m[\u001b[49m\u001b[43mengine\u001b[49m\u001b[43m]\u001b[49m\u001b[43m(\u001b[49m\u001b[43mf\u001b[49m\u001b[43m,\u001b[49m\u001b[43m \u001b[49m\u001b[38;5;241;43m*\u001b[39;49m\u001b[38;5;241;43m*\u001b[39;49m\u001b[38;5;28;43mself\u001b[39;49m\u001b[38;5;241;43m.\u001b[39;49m\u001b[43moptions\u001b[49m\u001b[43m)\u001b[49m\n\u001b[1;32m   1899\u001b[0m \u001b[38;5;28;01mexcept\u001b[39;00m \u001b[38;5;167;01mException\u001b[39;00m:\n\u001b[1;32m   1900\u001b[0m     \u001b[38;5;28;01mif\u001b[39;00m \u001b[38;5;28mself\u001b[39m\u001b[38;5;241m.\u001b[39mhandles \u001b[38;5;129;01mis\u001b[39;00m \u001b[38;5;129;01mnot\u001b[39;00m \u001b[38;5;28;01mNone\u001b[39;00m:\n",
      "File \u001b[0;32m/opt/conda/lib/python3.11/site-packages/pandas/io/parsers/c_parser_wrapper.py:93\u001b[0m, in \u001b[0;36mCParserWrapper.__init__\u001b[0;34m(self, src, **kwds)\u001b[0m\n\u001b[1;32m     90\u001b[0m \u001b[38;5;28;01mif\u001b[39;00m kwds[\u001b[38;5;124m\"\u001b[39m\u001b[38;5;124mdtype_backend\u001b[39m\u001b[38;5;124m\"\u001b[39m] \u001b[38;5;241m==\u001b[39m \u001b[38;5;124m\"\u001b[39m\u001b[38;5;124mpyarrow\u001b[39m\u001b[38;5;124m\"\u001b[39m:\n\u001b[1;32m     91\u001b[0m     \u001b[38;5;66;03m# Fail here loudly instead of in cython after reading\u001b[39;00m\n\u001b[1;32m     92\u001b[0m     import_optional_dependency(\u001b[38;5;124m\"\u001b[39m\u001b[38;5;124mpyarrow\u001b[39m\u001b[38;5;124m\"\u001b[39m)\n\u001b[0;32m---> 93\u001b[0m \u001b[38;5;28mself\u001b[39m\u001b[38;5;241m.\u001b[39m_reader \u001b[38;5;241m=\u001b[39m \u001b[43mparsers\u001b[49m\u001b[38;5;241;43m.\u001b[39;49m\u001b[43mTextReader\u001b[49m\u001b[43m(\u001b[49m\u001b[43msrc\u001b[49m\u001b[43m,\u001b[49m\u001b[43m \u001b[49m\u001b[38;5;241;43m*\u001b[39;49m\u001b[38;5;241;43m*\u001b[39;49m\u001b[43mkwds\u001b[49m\u001b[43m)\u001b[49m\n\u001b[1;32m     95\u001b[0m \u001b[38;5;28mself\u001b[39m\u001b[38;5;241m.\u001b[39munnamed_cols \u001b[38;5;241m=\u001b[39m \u001b[38;5;28mself\u001b[39m\u001b[38;5;241m.\u001b[39m_reader\u001b[38;5;241m.\u001b[39munnamed_cols\n\u001b[1;32m     97\u001b[0m \u001b[38;5;66;03m# error: Cannot determine type of 'names'\u001b[39;00m\n",
      "File \u001b[0;32mparsers.pyx:581\u001b[0m, in \u001b[0;36mpandas._libs.parsers.TextReader.__cinit__\u001b[0;34m()\u001b[0m\n",
      "\u001b[0;31mEmptyDataError\u001b[0m: No columns to parse from file"
     ]
    }
   ],
   "source": [
    "import pandas as pd\n",
    "\n",
    "df = pd.read_csv('/hpc/group/biostat/yc583/Tahoe_GDSC_0.2.csv.gz', on_bad_lines='skip', compression='gzip')\n",
    "df"
   ]
  },
  {
   "cell_type": "code",
   "execution_count": null,
   "id": "ed2070c0-f933-49f9-948e-da9f4db3d7be",
   "metadata": {},
   "outputs": [],
   "source": []
  }
 ],
 "metadata": {
  "kernelspec": {
   "display_name": "Python 3 (ipykernel)",
   "language": "python",
   "name": "python3"
  },
  "language_info": {
   "codemirror_mode": {
    "name": "ipython",
    "version": 3
   },
   "file_extension": ".py",
   "mimetype": "text/x-python",
   "name": "python",
   "nbconvert_exporter": "python",
   "pygments_lexer": "ipython3",
   "version": "3.11.10"
  }
 },
 "nbformat": 4,
 "nbformat_minor": 5
}
